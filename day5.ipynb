{
  "nbformat": 4,
  "nbformat_minor": 0,
  "metadata": {
    "colab": {
      "name": "day5.ipynb",
      "provenance": [],
      "collapsed_sections": [],
      "mount_file_id": "1QydpDpttLKFR5FIZHkXdMZ8kvtHv4V_u",
      "authorship_tag": "ABX9TyNqs21fANuJgWVpxOn5XDlC"
    },
    "kernelspec": {
      "name": "python3",
      "display_name": "Python 3"
    },
    "accelerator": "GPU"
  },
  "cells": [
    {
      "cell_type": "code",
      "metadata": {
        "id": "CqfdUxyxL5Ej",
        "colab_type": "code",
        "colab": {
          "base_uri": "https://localhost:8080/",
          "height": 183
        },
        "outputId": "3874d9a7-1e46-48dd-df7a-db3869573c00"
      },
      "source": [
        "!pip install hyperopt"
      ],
      "execution_count": 1,
      "outputs": [
        {
          "output_type": "stream",
          "text": [
            "Requirement already satisfied: hyperopt in /usr/local/lib/python3.6/dist-packages (0.1.2)\n",
            "Requirement already satisfied: pymongo in /usr/local/lib/python3.6/dist-packages (from hyperopt) (3.10.1)\n",
            "Requirement already satisfied: six in /usr/local/lib/python3.6/dist-packages (from hyperopt) (1.15.0)\n",
            "Requirement already satisfied: future in /usr/local/lib/python3.6/dist-packages (from hyperopt) (0.16.0)\n",
            "Requirement already satisfied: tqdm in /usr/local/lib/python3.6/dist-packages (from hyperopt) (4.41.1)\n",
            "Requirement already satisfied: scipy in /usr/local/lib/python3.6/dist-packages (from hyperopt) (1.4.1)\n",
            "Requirement already satisfied: networkx in /usr/local/lib/python3.6/dist-packages (from hyperopt) (2.4)\n",
            "Requirement already satisfied: numpy in /usr/local/lib/python3.6/dist-packages (from hyperopt) (1.18.5)\n",
            "Requirement already satisfied: decorator>=4.3.0 in /usr/local/lib/python3.6/dist-packages (from networkx->hyperopt) (4.4.2)\n"
          ],
          "name": "stdout"
        }
      ]
    },
    {
      "cell_type": "code",
      "metadata": {
        "id": "ZUDmMnKsMeCp",
        "colab_type": "code",
        "colab": {
          "base_uri": "https://localhost:8080/",
          "height": 50
        },
        "outputId": "c0a7adda-ad10-4f62-ff46-4feaa5d62104"
      },
      "source": [
        "import pandas as pd\n",
        "import numpy as np\n",
        "import os\n",
        "import datetime\n",
        "\n",
        "import tensorflow as tf\n",
        "from tensorflow.keras.models import Sequential\n",
        "from tensorflow.keras.layers import Conv2D, MaxPool2D, Dense, Flatten, Dropout\n",
        "from tensorflow.keras.utils import to_categorical\n",
        "\n",
        "%load_ext tensorboard\n",
        "\n",
        "import matplotlib.pyplot as plt\n",
        "from skimage import color, exposure\n",
        "\n",
        "from sklearn.metrics import accuracy_score\n",
        "\n",
        "from hyperopt import hp, STATUS_OK, tpe, Trials, fmin"
      ],
      "execution_count": 17,
      "outputs": [
        {
          "output_type": "stream",
          "text": [
            "The tensorboard extension is already loaded. To reload it, use:\n",
            "  %reload_ext tensorboard\n"
          ],
          "name": "stdout"
        }
      ]
    },
    {
      "cell_type": "code",
      "metadata": {
        "id": "DzkpfQTENgQc",
        "colab_type": "code",
        "colab": {
          "base_uri": "https://localhost:8080/",
          "height": 33
        },
        "outputId": "9861a4bf-3155-44e5-b0b5-08dc186de981"
      },
      "source": [
        "cd '/content/drive/My Drive/Colab Notebooks/matrix/matrix_three/dw_matrix_road_sign'"
      ],
      "execution_count": 4,
      "outputs": [
        {
          "output_type": "stream",
          "text": [
            "/content/drive/My Drive/Colab Notebooks/matrix/matrix_three/dw_matrix_road_sign\n"
          ],
          "name": "stdout"
        }
      ]
    },
    {
      "cell_type": "code",
      "metadata": {
        "id": "N0lyIyUlNyLg",
        "colab_type": "code",
        "colab": {}
      },
      "source": [
        "train = pd.read_pickle('data/train.p')\n",
        "test = pd.read_pickle('data/test.p')\n",
        "\n",
        "X_train, y_train = train['features'], train['labels']\n",
        "X_test, y_test = test['features'], test['labels']"
      ],
      "execution_count": 7,
      "outputs": []
    },
    {
      "cell_type": "code",
      "metadata": {
        "id": "LJC_VTJbOIwV",
        "colab_type": "code",
        "colab": {}
      },
      "source": [
        "if y_train.ndim == 1: y_train = to_categorical(y_train)\n",
        "if y_test.ndim == 1: y_test = to_categorical(y_test)\n",
        "\n",
        "input_shape = X_train.shape[1:]\n",
        "num_classes = y_train.shape[1]"
      ],
      "execution_count": 8,
      "outputs": []
    },
    {
      "cell_type": "code",
      "metadata": {
        "id": "j3zhgRVlPXvo",
        "colab_type": "code",
        "colab": {}
      },
      "source": [
        "def train_model(model, X_train, y_train, params_fit={}):\n",
        "  model.compile(loss='categorical_crossentropy', optimizer='Adam', metrics=['accuracy'])\n",
        "  model.fit(X_train, y_train)\n",
        "\n",
        "  logdir = os.path.join(\"logs\", datetime.datetime.now().strftime(\"%Y%m%d-%H%M%S\"))\n",
        "  tensorboard_callback = tf.keras.callbacks.TensorBoard(logdir, histogram_freq=1)\n",
        "\n",
        "  model.fit(\n",
        "      X_train,\n",
        "      y_train,\n",
        "      batch_size=params_fit.get('batch_size', 128),\n",
        "      epochs=params_fit.get('epochs',5),\n",
        "      verbose=params_fit.get('verbose',1),\n",
        "      validation_data=params_fit.get('validation_data', (X_train,y_train)),\n",
        "      callbacks=[tensorboard_callback]\n",
        "  )\n",
        "\n",
        "  return model\n",
        "\n",
        "def predict(model_trained,X_test,y_test, scoring=accuracy_score):\n",
        "\n",
        "  y_test_norm = np.argmax(y_test, axis=1)\n",
        "  y_pred_prob = model_trained.predict(X_test)\n",
        "  y_pred = np.argmax(y_pred_prob, axis=1)\n",
        "\n",
        "  return scoring(y_test_norm, y_pred)"
      ],
      "execution_count": 9,
      "outputs": []
    },
    {
      "cell_type": "code",
      "metadata": {
        "id": "j-FugdKLffTt",
        "colab_type": "code",
        "colab": {}
      },
      "source": [
        "def get_cnn_v5(input_shape, num_classes):\n",
        "  return Sequential([\n",
        "    Conv2D(filters=32, kernel_size=(3,3), activation='relu', input_shape=input_shape),\n",
        "    Conv2D(filters=32, kernel_size=(3,3), activation='relu', padding='same'),\n",
        "    MaxPool2D(),\n",
        "    Dropout(0.3),\n",
        "\n",
        "    Conv2D(filters=64, kernel_size=(3,3), activation='relu', padding='same'),\n",
        "    Conv2D(filters=64, kernel_size=(3,3), activation='relu'),\n",
        "    MaxPool2D(),\n",
        "    Dropout(0.3),\n",
        "\n",
        "    Conv2D(filters=64, kernel_size=(3,3), activation='relu', padding='same'),\n",
        "    Conv2D(filters=64, kernel_size=(3,3), activation='relu'),\n",
        "    MaxPool2D(),\n",
        "    Dropout(0.3),\n",
        "\n",
        "    Flatten(),\n",
        "\n",
        "    Dense(1024, activation='relu'), \n",
        "    Dropout(0.3),\n",
        "\n",
        "    Dense(1024, activation='relu'), \n",
        "    Dropout(0.3),\n",
        "\n",
        "    Dense(num_classes, activation='softmax'),\n",
        "  ])\n"
      ],
      "execution_count": 39,
      "outputs": []
    },
    {
      "cell_type": "code",
      "metadata": {
        "id": "3mZiTKbWf5ev",
        "colab_type": "code",
        "colab": {
          "base_uri": "https://localhost:8080/",
          "height": 248
        },
        "outputId": "ce3ad665-6d2a-48b5-a214-cd9b3a4e1d01"
      },
      "source": [
        "model = get_cnn_v5(input_shape, num_classes)\n",
        "model_trained = train_model(model, X_train, y_train)\n",
        "\n",
        "predict(model_trained, X_test, y_test)"
      ],
      "execution_count": 40,
      "outputs": [
        {
          "output_type": "stream",
          "text": [
            "1088/1088 [==============================] - 6s 5ms/step - loss: 1.6765 - accuracy: 0.5080\n",
            "Epoch 1/5\n",
            "  2/272 [..............................] - ETA: 7:15 - loss: 0.7028 - accuracy: 0.7852WARNING:tensorflow:Method (on_train_batch_end) is slow compared to the batch update (1.609605). Check your callbacks.\n",
            "272/272 [==============================] - 8s 29ms/step - loss: 0.4155 - accuracy: 0.8667 - val_loss: 0.1225 - val_accuracy: 0.9632\n",
            "Epoch 2/5\n",
            "272/272 [==============================] - 5s 17ms/step - loss: 0.2624 - accuracy: 0.9193 - val_loss: 0.0667 - val_accuracy: 0.9803\n",
            "Epoch 3/5\n",
            "272/272 [==============================] - 5s 17ms/step - loss: 0.1957 - accuracy: 0.9407 - val_loss: 0.0478 - val_accuracy: 0.9861\n",
            "Epoch 4/5\n",
            "272/272 [==============================] - 5s 17ms/step - loss: 0.1646 - accuracy: 0.9522 - val_loss: 0.0314 - val_accuracy: 0.9911\n",
            "Epoch 5/5\n",
            "272/272 [==============================] - 5s 17ms/step - loss: 0.1285 - accuracy: 0.9601 - val_loss: 0.0228 - val_accuracy: 0.9932\n"
          ],
          "name": "stdout"
        },
        {
          "output_type": "execute_result",
          "data": {
            "text/plain": [
              "0.9648526077097506"
            ]
          },
          "metadata": {
            "tags": []
          },
          "execution_count": 40
        }
      ]
    },
    {
      "cell_type": "code",
      "metadata": {
        "id": "JvSwQtaFWC3T",
        "colab_type": "code",
        "colab": {}
      },
      "source": [
        "def get_model(params):\n",
        "  return Sequential([\n",
        "    Conv2D(filters=32, kernel_size=(3,3), activation='relu', input_shape=input_shape),\n",
        "    Conv2D(filters=32, kernel_size=(3,3), activation='relu', padding='same'),\n",
        "    MaxPool2D(),\n",
        "    Dropout(params['dropout_cnn_block_one']),\n",
        "\n",
        "    Conv2D(filters=64, kernel_size=(3,3), activation='relu', padding='same'),\n",
        "    Conv2D(filters=64, kernel_size=(3,3), activation='relu'),\n",
        "    MaxPool2D(),\n",
        "    Dropout(params['dropout_cnn_block_two']),\n",
        "\n",
        "    Conv2D(filters=128, kernel_size=(3,3), activation='relu', padding='same'),\n",
        "    Conv2D(filters=128, kernel_size=(3,3), activation='relu'),\n",
        "    MaxPool2D(),\n",
        "    Dropout(params['dropout_cnn_block_three']),\n",
        "\n",
        "    Flatten(),\n",
        "\n",
        "    Dense(1024, activation='relu'), \n",
        "    Dropout(params['dropout_dense_block_one']),\n",
        "\n",
        "    Dense(1024, activation='relu'), \n",
        "    Dropout(params['dropout_dense_block_two']),\n",
        "\n",
        "    Dense(num_classes, activation='softmax'),\n",
        "  ])\n"
      ],
      "execution_count": 36,
      "outputs": []
    },
    {
      "cell_type": "code",
      "metadata": {
        "id": "4U3Jrb5KR71P",
        "colab_type": "code",
        "colab": {}
      },
      "source": [
        "def func_obj(params):\n",
        "  model = get_model(params)\n",
        "  model.compile(loss='categorical_crossentropy', optimizer='Adam', metrics=['accuracy'])\n",
        " \n",
        "  model.fit(\n",
        "      X_train,\n",
        "      y_train,\n",
        "      batch_size=128,#int(params.get('batch_size', 128)),\n",
        "      epochs=5,\n",
        "      verbose=0,\n",
        "  )\n",
        "\n",
        "  score  = model.evaluate(X_test, y_test, verbose=0)\n",
        "  accuracy = score[1]\n",
        "  print(params, 'accuracy={}'.format(accuracy))\n",
        "\n",
        "  return {'loss':-accuracy, 'status': STATUS_OK,'model':model}"
      ],
      "execution_count": 37,
      "outputs": []
    },
    {
      "cell_type": "code",
      "metadata": {
        "id": "zCGWLfruUT-b",
        "colab_type": "code",
        "colab": {
          "base_uri": "https://localhost:8080/",
          "height": 1000
        },
        "outputId": "2a07a033-7834-4309-daf6-9dc0095378b4"
      },
      "source": [
        "space = {\n",
        "    'batch_size': hp.quniform('batch_size', 50, 200, 20),\n",
        "    'dropout_cnn_block_one': hp.uniform('dropout_cnn_block_one', 0.3, 0.5),\n",
        "    'dropout_cnn_block_two': hp.uniform('dropout_cnn_block_two', 0.3, 0.5),\n",
        "    'dropout_cnn_block_three': hp.uniform('dropout_cnn_block_three', 0.3, 0.5),\n",
        "\n",
        "    'dropout_dense_block_one': hp.uniform('dropout_dense_block_one', 0.3, 0.7),\n",
        "    'dropout_dense_block_two': hp.uniform('dropout_dense_block_two', 0.3, 0.7),\n",
        "}\n",
        "\n",
        "best = fmin(\n",
        "    func_obj,\n",
        "    space,\n",
        "    tpe.suggest,\n",
        "    30,\n",
        "    Trials()\n",
        ")"
      ],
      "execution_count": 38,
      "outputs": [
        {
          "output_type": "stream",
          "text": [
            "{'batch_size': 180.0, 'dropout_cnn_block_one': 0.35283760370004524, 'dropout_cnn_block_three': 0.3721978220214431, 'dropout_cnn_block_two': 0.40667249547857587, 'dropout_dense_block_one': 0.6791164025359526, 'dropout_dense_block_two': 0.5028959279759957}\n",
            "accuracy=0.9417233467102051\n",
            "{'batch_size': 100.0, 'dropout_cnn_block_one': 0.30421685715177205, 'dropout_cnn_block_three': 0.4531643973410042, 'dropout_cnn_block_two': 0.37592276979459266, 'dropout_dense_block_one': 0.6151914131318961, 'dropout_dense_block_two': 0.6972628026802767}\n",
            "accuracy=0.9088435173034668\n",
            "{'batch_size': 80.0, 'dropout_cnn_block_one': 0.3835407829608049, 'dropout_cnn_block_three': 0.3941370871347163, 'dropout_cnn_block_two': 0.3525529468486534, 'dropout_dense_block_one': 0.34328243788749635, 'dropout_dense_block_two': 0.4760495996204144}\n",
            "accuracy=0.9306122660636902\n",
            "{'batch_size': 80.0, 'dropout_cnn_block_one': 0.3010959530724433, 'dropout_cnn_block_three': 0.3124040057265824, 'dropout_cnn_block_two': 0.45096908479434705, 'dropout_dense_block_one': 0.4048421954562793, 'dropout_dense_block_two': 0.5247823713253544}\n",
            "accuracy=0.9589568972587585\n",
            "{'batch_size': 140.0, 'dropout_cnn_block_one': 0.44827946488244824, 'dropout_cnn_block_three': 0.34964730242706743, 'dropout_cnn_block_two': 0.32016351294343043, 'dropout_dense_block_one': 0.36622792263320497, 'dropout_dense_block_two': 0.3372335773916503}\n",
            "accuracy=0.9514739513397217\n",
            "{'batch_size': 100.0, 'dropout_cnn_block_one': 0.33255883656344715, 'dropout_cnn_block_three': 0.3126636985803688, 'dropout_cnn_block_two': 0.4366570964999932, 'dropout_dense_block_one': 0.6022255311395945, 'dropout_dense_block_two': 0.5810480860847415}\n",
            "accuracy=0.9646258354187012\n",
            "{'batch_size': 80.0, 'dropout_cnn_block_one': 0.4767770375381381, 'dropout_cnn_block_three': 0.348155569567587, 'dropout_cnn_block_two': 0.34833790481758997, 'dropout_dense_block_one': 0.6788775230535646, 'dropout_dense_block_two': 0.3895979130546604}\n",
            "accuracy=0.9272108674049377\n",
            "{'batch_size': 160.0, 'dropout_cnn_block_one': 0.4330594824241145, 'dropout_cnn_block_three': 0.46346584031477545, 'dropout_cnn_block_two': 0.4501112166239913, 'dropout_dense_block_one': 0.6081566166373857, 'dropout_dense_block_two': 0.5606378676971286}\n",
            "accuracy=0.8092970252037048\n",
            "{'batch_size': 100.0, 'dropout_cnn_block_one': 0.3772030881832308, 'dropout_cnn_block_three': 0.37263841903786055, 'dropout_cnn_block_two': 0.3688007702140838, 'dropout_dense_block_one': 0.619391675188499, 'dropout_dense_block_two': 0.5114144698991626}\n",
            "accuracy=0.9265305995941162\n",
            "{'batch_size': 140.0, 'dropout_cnn_block_one': 0.447112708671529, 'dropout_cnn_block_three': 0.4811947198531191, 'dropout_cnn_block_two': 0.4306170703153188, 'dropout_dense_block_one': 0.5487158704083628, 'dropout_dense_block_two': 0.45186961499144696}\n",
            "accuracy=0.9136054515838623\n",
            "{'batch_size': 60.0, 'dropout_cnn_block_one': 0.3234764835967362, 'dropout_cnn_block_three': 0.3727771572120215, 'dropout_cnn_block_two': 0.3119781992431003, 'dropout_dense_block_one': 0.576965404994957, 'dropout_dense_block_two': 0.3867688819140804}\n",
            "accuracy=0.958276629447937\n",
            "{'batch_size': 160.0, 'dropout_cnn_block_one': 0.47881198926142876, 'dropout_cnn_block_three': 0.4048520861530474, 'dropout_cnn_block_two': 0.30657087967586727, 'dropout_dense_block_one': 0.5864833335079893, 'dropout_dense_block_two': 0.6567710329516385}\n",
            "accuracy=0.8988662362098694\n",
            "{'batch_size': 160.0, 'dropout_cnn_block_one': 0.33008306889838684, 'dropout_cnn_block_three': 0.410098204225839, 'dropout_cnn_block_two': 0.3268667136735787, 'dropout_dense_block_one': 0.33762240595811216, 'dropout_dense_block_two': 0.6931163446301054}\n",
            "accuracy=0.956916093826294\n",
            "{'batch_size': 140.0, 'dropout_cnn_block_one': 0.3085207001294708, 'dropout_cnn_block_three': 0.35188341504789467, 'dropout_cnn_block_two': 0.4404185101808484, 'dropout_dense_block_one': 0.44112957270764386, 'dropout_dense_block_two': 0.6175084987031032}\n",
            "accuracy=0.9673469662666321\n",
            "{'batch_size': 60.0, 'dropout_cnn_block_one': 0.37298549840020795, 'dropout_cnn_block_three': 0.4961547866081853, 'dropout_cnn_block_two': 0.3496501717227932, 'dropout_dense_block_one': 0.5091916314144365, 'dropout_dense_block_two': 0.5634007887321593}\n",
            "accuracy=0.8541949987411499\n",
            "{'batch_size': 120.0, 'dropout_cnn_block_one': 0.44761181884591483, 'dropout_cnn_block_three': 0.4896743738615067, 'dropout_cnn_block_two': 0.3244262472322628, 'dropout_dense_block_one': 0.4733015462130102, 'dropout_dense_block_two': 0.6911524586778163}\n",
            "accuracy=0.8739228844642639\n",
            "{'batch_size': 140.0, 'dropout_cnn_block_one': 0.47274065718409525, 'dropout_cnn_block_three': 0.4430382011164171, 'dropout_cnn_block_two': 0.49733776308414523, 'dropout_dense_block_one': 0.4397536662575743, 'dropout_dense_block_two': 0.45346346138661925}\n",
            "accuracy=0.8405895829200745\n",
            "{'batch_size': 80.0, 'dropout_cnn_block_one': 0.3880678790216028, 'dropout_cnn_block_three': 0.4060809402933466, 'dropout_cnn_block_two': 0.3274481325179105, 'dropout_dense_block_one': 0.42011572814545156, 'dropout_dense_block_two': 0.38531518786353985}\n",
            "accuracy=0.9469387531280518\n",
            "{'batch_size': 140.0, 'dropout_cnn_block_one': 0.4567886796437881, 'dropout_cnn_block_three': 0.4216867081984676, 'dropout_cnn_block_two': 0.4455893981214491, 'dropout_dense_block_one': 0.5522450295840167, 'dropout_dense_block_two': 0.4979013829500156}\n",
            "accuracy=0.9428571462631226\n",
            "{'batch_size': 200.0, 'dropout_cnn_block_one': 0.45786360606680854, 'dropout_cnn_block_three': 0.476870328782825, 'dropout_cnn_block_two': 0.3184946983914206, 'dropout_dense_block_one': 0.48422860624124964, 'dropout_dense_block_two': 0.6601555754200723}\n",
            "accuracy=0.8970521688461304\n",
            "{'batch_size': 120.0, 'dropout_cnn_block_one': 0.4111762852434762, 'dropout_cnn_block_three': 0.3016996754654573, 'dropout_cnn_block_two': 0.4853936956080127, 'dropout_dense_block_one': 0.5118268344272334, 'dropout_dense_block_two': 0.5988295279301787}\n",
            "accuracy=0.9494330883026123\n",
            "{'batch_size': 100.0, 'dropout_cnn_block_one': 0.34684261423601814, 'dropout_cnn_block_three': 0.3283213315564736, 'dropout_cnn_block_two': 0.4754135391647431, 'dropout_dense_block_one': 0.6440001979260018, 'dropout_dense_block_two': 0.6148951965098828}\n",
            "accuracy=0.9394558072090149\n",
            "{'batch_size': 120.0, 'dropout_cnn_block_one': 0.31901550120609173, 'dropout_cnn_block_three': 0.32204182259178565, 'dropout_cnn_block_two': 0.4104058877018173, 'dropout_dense_block_one': 0.45155449459277275, 'dropout_dense_block_two': 0.6087332808996433}\n",
            "accuracy=0.9043083786964417\n",
            "{'batch_size': 100.0, 'dropout_cnn_block_one': 0.3551270747766458, 'dropout_cnn_block_three': 0.3436063885934864, 'dropout_cnn_block_two': 0.42023406277725733, 'dropout_dense_block_one': 0.3895304154351339, 'dropout_dense_block_two': 0.5638398384840175}\n",
            "accuracy=0.9634920358657837\n",
            "{'batch_size': 180.0, 'dropout_cnn_block_one': 0.30023396002676606, 'dropout_cnn_block_three': 0.3007881704651501, 'dropout_cnn_block_two': 0.3877428779166241, 'dropout_dense_block_one': 0.30371112069913614, 'dropout_dense_block_two': 0.6375941771357821}\n",
            "accuracy=0.960544228553772\n",
            "{'batch_size': 180.0, 'dropout_cnn_block_one': 0.3406792604444219, 'dropout_cnn_block_three': 0.33501495772360035, 'dropout_cnn_block_two': 0.47420458348948247, 'dropout_dense_block_one': 0.5481433835917183, 'dropout_dense_block_two': 0.5853594027390298}\n",
            "accuracy=0.9664399027824402\n",
            "{'batch_size': 200.0, 'dropout_cnn_block_one': 0.40863850579163497, 'dropout_cnn_block_three': 0.3857553388152393, 'dropout_cnn_block_two': 0.475785141663064, 'dropout_dense_block_one': 0.539181183569009, 'dropout_dense_block_two': 0.537640163207456}\n",
            "accuracy=0.9054421782493591\n",
            "{'batch_size': 180.0, 'dropout_cnn_block_one': 0.31143975707058746, 'dropout_cnn_block_three': 0.35801344588671924, 'dropout_cnn_block_two': 0.4660467839787051, 'dropout_dense_block_one': 0.45285426892138103, 'dropout_dense_block_two': 0.6463286937274808}\n",
            "accuracy=0.9462584853172302\n",
            "{'batch_size': 180.0, 'dropout_cnn_block_one': 0.3549907794222836, 'dropout_cnn_block_three': 0.33440075599775254, 'dropout_cnn_block_two': 0.49487557802870175, 'dropout_dense_block_one': 0.651920984007463, 'dropout_dense_block_two': 0.6741046936734509}\n",
            "accuracy=0.7950113415718079\n",
            "{'batch_size': 200.0, 'dropout_cnn_block_one': 0.342154745421055, 'dropout_cnn_block_three': 0.36353236014853396, 'dropout_cnn_block_two': 0.41042945426842303, 'dropout_dense_block_one': 0.5275102491489865, 'dropout_dense_block_two': 0.5903189333775584}\n",
            "accuracy=0.9492063522338867\n",
            "100%|██████████| 30/30 [07:53<00:00, 15.77s/it, best loss: -0.9673469662666321]\n"
          ],
          "name": "stdout"
        }
      ]
    }
  ]
}