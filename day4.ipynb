{
  "nbformat": 4,
  "nbformat_minor": 0,
  "metadata": {
    "colab": {
      "name": "day4.ipynb",
      "provenance": [],
      "collapsed_sections": [],
      "mount_file_id": "13fzhHaCUAacmPSBqrzvvzHj1h8qMsxrO",
      "authorship_tag": "ABX9TyM7l02oIR5UEZ1AFMLOgrXu"
    },
    "kernelspec": {
      "name": "python3",
      "display_name": "Python 3"
    },
    "accelerator": "GPU"
  },
  "cells": [
    {
      "cell_type": "code",
      "metadata": {
        "id": "HZOX289fMxiS",
        "colab_type": "code",
        "colab": {}
      },
      "source": [
        "import pandas as pd\n",
        "import numpy as np\n",
        "import os \n",
        "import datetime \n",
        "\n",
        "import tensorflow as tf\n",
        "from tensorflow.keras.models import Sequential\n",
        "from tensorflow.keras.layers import Conv2D, MaxPool2D, Dense, Flatten, Dropout\n",
        "from tensorflow.keras.utils import to_categorical\n",
        "\n",
        "%load_ext tensorboard\n",
        "\n",
        "import matplotlib.pyplot as plt\n",
        "from skimage import color,exposure\n",
        "\n",
        "from sklearn.metrics import accuracy_score"
      ],
      "execution_count": 3,
      "outputs": []
    },
    {
      "cell_type": "code",
      "metadata": {
        "id": "dI8lOfNEORUY",
        "colab_type": "code",
        "colab": {
          "base_uri": "https://localhost:8080/",
          "height": 34
        },
        "outputId": "1f86c2ce-b5e8-4d14-a3f2-925f31a2b5f3"
      },
      "source": [
        "cd '/content/drive/My Drive/Colab Notebooks/matrix/matrix_three/dw_matrix_road_sign'"
      ],
      "execution_count": 7,
      "outputs": [
        {
          "output_type": "stream",
          "text": [
            "/content/drive/My Drive/Colab Notebooks/matrix/matrix_three/dw_matrix_road_sign\n"
          ],
          "name": "stdout"
        }
      ]
    },
    {
      "cell_type": "code",
      "metadata": {
        "id": "tU-cdNw7Ofl3",
        "colab_type": "code",
        "colab": {}
      },
      "source": [
        "train = pd.read_pickle('data/train.p')\n",
        "test = pd.read_pickle('data/test.p')\n",
        "\n",
        "X_train, y_train = train['features'], train['labels']\n",
        "X_test, y_test = test['features'], test['labels']"
      ],
      "execution_count": 8,
      "outputs": []
    },
    {
      "cell_type": "code",
      "metadata": {
        "id": "XaV46pmfOaxK",
        "colab_type": "code",
        "colab": {
          "base_uri": "https://localhost:8080/",
          "height": 34
        },
        "outputId": "339c4d37-98c7-4ddd-827c-6a495e3d401b"
      },
      "source": [
        "y_train"
      ],
      "execution_count": null,
      "outputs": [
        {
          "output_type": "execute_result",
          "data": {
            "text/plain": [
              "array([41, 41, 41, ..., 25, 25, 25], dtype=uint8)"
            ]
          },
          "metadata": {
            "tags": []
          },
          "execution_count": 5
        }
      ]
    },
    {
      "cell_type": "code",
      "metadata": {
        "id": "AUh8iA-qPEcO",
        "colab_type": "code",
        "colab": {
          "base_uri": "https://localhost:8080/",
          "height": 34
        },
        "outputId": "4e858367-5ea0-48ad-8a7c-bd44978c8c75"
      },
      "source": [
        "len(np.unique(y_train))"
      ],
      "execution_count": null,
      "outputs": [
        {
          "output_type": "execute_result",
          "data": {
            "text/plain": [
              "43"
            ]
          },
          "metadata": {
            "tags": []
          },
          "execution_count": 6
        }
      ]
    },
    {
      "cell_type": "code",
      "metadata": {
        "id": "lmnD1_QmP_ax",
        "colab_type": "code",
        "colab": {}
      },
      "source": [
        "if y_train.ndim ==1: y_train = to_categorical(y_train)\n",
        "if y_test.ndim ==1: y_test = to_categorical(y_test)"
      ],
      "execution_count": null,
      "outputs": []
    },
    {
      "cell_type": "code",
      "metadata": {
        "id": "m9rIYla4QbiY",
        "colab_type": "code",
        "colab": {
          "base_uri": "https://localhost:8080/",
          "height": 34
        },
        "outputId": "2b9d3c8c-35ac-4e7b-c335-ed6cfae6733a"
      },
      "source": [
        "y_train.shape\n",
        "y_test.shape"
      ],
      "execution_count": null,
      "outputs": [
        {
          "output_type": "execute_result",
          "data": {
            "text/plain": [
              "(4410, 43)"
            ]
          },
          "metadata": {
            "tags": []
          },
          "execution_count": 8
        }
      ]
    },
    {
      "cell_type": "code",
      "metadata": {
        "id": "uCnZaj_bSqpK",
        "colab_type": "code",
        "colab": {}
      },
      "source": [
        "input_shape = X_train.shape[1:]\n",
        "num_classes = y_train.shape[1]"
      ],
      "execution_count": null,
      "outputs": []
    },
    {
      "cell_type": "code",
      "metadata": {
        "id": "g-9Rcnt8QZ6f",
        "colab_type": "code",
        "colab": {}
      },
      "source": [
        "def get_cnn_v1(input_shape, num_classes):\n",
        "  return Sequential([\n",
        "    Conv2D(filters=64, kernel_size=(3,3), activation='relu', input_shape=input_shape),\n",
        "    Flatten(),\n",
        "    Dense(num_classes, activation='softmax'),\n",
        "  ])\n",
        "\n",
        "def train_model(model, X_train, y_train, params_fit={}):\n",
        "  model.compile(loss='categorical_crossentropy', optimizer='Adam', metrics=['accuracy'])\n",
        "  model.fit(X_train, y_train)\n",
        "\n",
        "  logdir = os.path.join(\"logs\", datetime.datetime.now().strftime(\"%Y%m%d-%H%M%S\"))\n",
        "  tensorboard_callback = tf.keras.callbacks.TensorBoard(logdir, histogram_freq=1)\n",
        "\n",
        "  model.fit(\n",
        "      X_train,\n",
        "      y_train,\n",
        "      batch_size=params_fit.get('batch_size', 128),\n",
        "      epochs=params_fit.get('epochs',5),\n",
        "      verbose=params_fit.get('verbose',1),\n",
        "      validation_data=params_fit.get('validation_data', (X_train,y_train)),\n",
        "      callbacks=[tensorboard_callback]\n",
        "  )\n",
        "\n",
        "  return model"
      ],
      "execution_count": null,
      "outputs": []
    },
    {
      "cell_type": "code",
      "metadata": {
        "id": "HwHj2bTZXgEa",
        "colab_type": "code",
        "colab": {
          "base_uri": "https://localhost:8080/",
          "height": 234
        },
        "outputId": "a6704378-a277-46b4-f36b-f3388a78b01d"
      },
      "source": [
        "model = get_cnn_v1(input_shape, num_classes)\n",
        "model_trained = train_model(model, X_train, y_train)"
      ],
      "execution_count": null,
      "outputs": [
        {
          "output_type": "stream",
          "text": [
            "1088/1088 [==============================] - 8s 7ms/step - loss: 4.6434 - accuracy: 0.7868\n",
            "Epoch 1/5\n",
            "272/272 [==============================] - 7s 24ms/step - loss: 0.1648 - accuracy: 0.9603 - val_loss: 0.0888 - val_accuracy: 0.9785\n",
            "Epoch 2/5\n",
            "272/272 [==============================] - 6s 24ms/step - loss: 0.0841 - accuracy: 0.9795 - val_loss: 0.0506 - val_accuracy: 0.9872\n",
            "Epoch 3/5\n",
            "272/272 [==============================] - 6s 24ms/step - loss: 0.0573 - accuracy: 0.9864 - val_loss: 0.0509 - val_accuracy: 0.9910\n",
            "Epoch 4/5\n",
            "272/272 [==============================] - 6s 23ms/step - loss: 0.0516 - accuracy: 0.9881 - val_loss: 0.0383 - val_accuracy: 0.9921\n",
            "Epoch 5/5\n",
            "272/272 [==============================] - 6s 23ms/step - loss: 0.0431 - accuracy: 0.9901 - val_loss: 0.0425 - val_accuracy: 0.9902\n"
          ],
          "name": "stdout"
        }
      ]
    },
    {
      "cell_type": "code",
      "metadata": {
        "id": "Xox0n2sRgex_",
        "colab_type": "code",
        "colab": {}
      },
      "source": [
        "def predict(model_trained,X_test,y_test, scoring=accuracy_score):\n",
        "\n",
        "  y_test_norm = np.argmax(y_test, axis=1)\n",
        "  y_pred_prob = model_trained.predict(X_test)\n",
        "  y_pred = np.argmax(y_pred_prob, axis=1)\n",
        "\n",
        "  return scoring(y_test_norm, y_pred)"
      ],
      "execution_count": null,
      "outputs": []
    },
    {
      "cell_type": "code",
      "metadata": {
        "id": "X40I8ZGgoxCG",
        "colab_type": "code",
        "colab": {
          "base_uri": "https://localhost:8080/",
          "height": 34
        },
        "outputId": "92313bff-1256-4c19-ebf8-e2bc86227ad7"
      },
      "source": [
        "predict(model_trained, X_test, y_test)"
      ],
      "execution_count": null,
      "outputs": [
        {
          "output_type": "execute_result",
          "data": {
            "text/plain": [
              "0.8387755102040816"
            ]
          },
          "metadata": {
            "tags": []
          },
          "execution_count": 40
        }
      ]
    },
    {
      "cell_type": "code",
      "metadata": {
        "id": "wHAswa_Mq_k1",
        "colab_type": "code",
        "colab": {}
      },
      "source": [
        "def train_and_predict(model): \n",
        "  model_trained = train_model(model, X_train, y_train)\n",
        "  return predict(model_trained, X_test, y_test)"
      ],
      "execution_count": null,
      "outputs": []
    },
    {
      "cell_type": "code",
      "metadata": {
        "id": "SABLtSW1ppuq",
        "colab_type": "code",
        "colab": {
          "base_uri": "https://localhost:8080/",
          "height": 252
        },
        "outputId": "063957da-36fb-4702-90f5-2d912dd3265e"
      },
      "source": [
        "def get_cnn_v2(input_shape, num_classes):\n",
        "  return Sequential([\n",
        "    Conv2D(filters=32, kernel_size=(3,3), activation='relu', input_shape=input_shape),\n",
        "    MaxPool2D(),\n",
        "    Dropout(0.3),\n",
        "\n",
        "    Conv2D(filters=64, kernel_size=(3,3), activation='relu'),\n",
        "    MaxPool2D(),\n",
        "    Dropout(0.3),\n",
        "\n",
        "    Flatten(),\n",
        "\n",
        "    Dense(1024, activation='relu'), \n",
        "    Dropout(0.3),\n",
        "\n",
        "    Dense(num_classes, activation='softmax'),\n",
        "  ])\n",
        "\n",
        "train_and_predict(get_cnn_v2(input_shape, num_classes))\n",
        "\n"
      ],
      "execution_count": null,
      "outputs": [
        {
          "output_type": "stream",
          "text": [
            "1088/1088 [==============================] - 9s 8ms/step - loss: 2.4186 - accuracy: 0.5826\n",
            "Epoch 1/5\n",
            "272/272 [==============================] - 7s 24ms/step - loss: 0.4398 - accuracy: 0.8682 - val_loss: 0.1426 - val_accuracy: 0.9732\n",
            "Epoch 2/5\n",
            "272/272 [==============================] - 6s 23ms/step - loss: 0.3006 - accuracy: 0.9094 - val_loss: 0.0987 - val_accuracy: 0.9828\n",
            "Epoch 3/5\n",
            "272/272 [==============================] - 6s 23ms/step - loss: 0.2406 - accuracy: 0.9270 - val_loss: 0.0561 - val_accuracy: 0.9891\n",
            "Epoch 4/5\n",
            "272/272 [==============================] - 6s 23ms/step - loss: 0.1988 - accuracy: 0.9398 - val_loss: 0.0466 - val_accuracy: 0.9924\n",
            "Epoch 5/5\n",
            "272/272 [==============================] - 6s 23ms/step - loss: 0.1674 - accuracy: 0.9497 - val_loss: 0.0485 - val_accuracy: 0.9920\n"
          ],
          "name": "stdout"
        },
        {
          "output_type": "execute_result",
          "data": {
            "text/plain": [
              "0.9319727891156463"
            ]
          },
          "metadata": {
            "tags": []
          },
          "execution_count": 46
        }
      ]
    },
    {
      "cell_type": "code",
      "metadata": {
        "id": "c35XxjO2ppiD",
        "colab_type": "code",
        "colab": {
          "base_uri": "https://localhost:8080/",
          "height": 252
        },
        "outputId": "6183bd42-d43e-42a9-89bb-fe215ccc1647"
      },
      "source": [
        "def get_cnn_v3(input_shape, num_classes):\n",
        "  return Sequential([\n",
        "    Conv2D(filters=32, kernel_size=(3,3), activation='relu', input_shape=input_shape),\n",
        "    Conv2D(filters=32, kernel_size=(3,3), activation='relu'),\n",
        "    MaxPool2D(),\n",
        "    Dropout(0.3),\n",
        "\n",
        "    Conv2D(filters=64, kernel_size=(3,3), activation='relu'),\n",
        "    Conv2D(filters=64, kernel_size=(3,3), activation='relu'),\n",
        "    MaxPool2D(),\n",
        "    Dropout(0.3),\n",
        "\n",
        "    Flatten(),\n",
        "\n",
        "    Dense(1024, activation='relu'), \n",
        "    Dropout(0.3),\n",
        "\n",
        "    Dense(num_classes, activation='softmax'),\n",
        "  ])\n",
        "\n",
        "train_and_predict(get_cnn_v3(input_shape, num_classes))"
      ],
      "execution_count": null,
      "outputs": [
        {
          "output_type": "stream",
          "text": [
            "1088/1088 [==============================] - 13s 12ms/step - loss: 1.2067 - accuracy: 0.6946\n",
            "Epoch 1/5\n",
            "272/272 [==============================] - 10s 38ms/step - loss: 0.2329 - accuracy: 0.9303 - val_loss: 0.0531 - val_accuracy: 0.9874\n",
            "Epoch 2/5\n",
            "272/272 [==============================] - 10s 36ms/step - loss: 0.1521 - accuracy: 0.9533 - val_loss: 0.0422 - val_accuracy: 0.9913\n",
            "Epoch 3/5\n",
            "272/272 [==============================] - 10s 36ms/step - loss: 0.1177 - accuracy: 0.9635 - val_loss: 0.0304 - val_accuracy: 0.9945\n",
            "Epoch 4/5\n",
            "272/272 [==============================] - 10s 36ms/step - loss: 0.1009 - accuracy: 0.9685 - val_loss: 0.0144 - val_accuracy: 0.9972\n",
            "Epoch 5/5\n",
            "272/272 [==============================] - 10s 36ms/step - loss: 0.0900 - accuracy: 0.9724 - val_loss: 0.0190 - val_accuracy: 0.9954\n"
          ],
          "name": "stdout"
        },
        {
          "output_type": "execute_result",
          "data": {
            "text/plain": [
              "0.9564625850340136"
            ]
          },
          "metadata": {
            "tags": []
          },
          "execution_count": 49
        }
      ]
    },
    {
      "cell_type": "code",
      "metadata": {
        "id": "jXfrLSpXxBQC",
        "colab_type": "code",
        "colab": {
          "base_uri": "https://localhost:8080/",
          "height": 252
        },
        "outputId": "39014bf3-493c-4f18-add3-44d088e4c367"
      },
      "source": [
        "def get_cnn_v4(input_shape, num_classes):\n",
        "  return Sequential([\n",
        "    Conv2D(filters=32, kernel_size=(3,3), activation='relu', input_shape=input_shape),\n",
        "    Conv2D(filters=32, kernel_size=(3,3), activation='relu', padding='same'),\n",
        "    MaxPool2D(),\n",
        "    Dropout(0.3),\n",
        "\n",
        "    Conv2D(filters=64, kernel_size=(3,3), activation='relu', padding='same'),\n",
        "    Conv2D(filters=64, kernel_size=(3,3), activation='relu'),\n",
        "    MaxPool2D(),\n",
        "    Dropout(0.3),\n",
        "\n",
        "    Conv2D(filters=64, kernel_size=(3,3), activation='relu', padding='same'),\n",
        "    Conv2D(filters=64, kernel_size=(3,3), activation='relu'),\n",
        "    MaxPool2D(),\n",
        "    Dropout(0.3),\n",
        "\n",
        "    Flatten(),\n",
        "\n",
        "    Dense(1024, activation='relu'), \n",
        "    Dropout(0.3),\n",
        "\n",
        "    Dense(num_classes, activation='softmax'),\n",
        "  ])\n",
        "\n",
        "train_and_predict(get_cnn_v4(input_shape, num_classes))"
      ],
      "execution_count": null,
      "outputs": [
        {
          "output_type": "stream",
          "text": [
            "1088/1088 [==============================] - 15s 14ms/step - loss: 1.6684 - accuracy: 0.5311\n",
            "Epoch 1/5\n",
            "272/272 [==============================] - 13s 47ms/step - loss: 0.3271 - accuracy: 0.8976 - val_loss: 0.0888 - val_accuracy: 0.9759\n",
            "Epoch 2/5\n",
            "272/272 [==============================] - 12s 44ms/step - loss: 0.1984 - accuracy: 0.9380 - val_loss: 0.0438 - val_accuracy: 0.9878\n",
            "Epoch 3/5\n",
            "272/272 [==============================] - 12s 45ms/step - loss: 0.1578 - accuracy: 0.9523 - val_loss: 0.0418 - val_accuracy: 0.9896\n",
            "Epoch 4/5\n",
            "272/272 [==============================] - 12s 45ms/step - loss: 0.1303 - accuracy: 0.9598 - val_loss: 0.0205 - val_accuracy: 0.9942\n",
            "Epoch 5/5\n",
            "272/272 [==============================] - 12s 44ms/step - loss: 0.1110 - accuracy: 0.9659 - val_loss: 0.0214 - val_accuracy: 0.9945\n"
          ],
          "name": "stdout"
        },
        {
          "output_type": "execute_result",
          "data": {
            "text/plain": [
              "0.9628117913832199"
            ]
          },
          "metadata": {
            "tags": []
          },
          "execution_count": 55
        }
      ]
    },
    {
      "cell_type": "code",
      "metadata": {
        "id": "WEx9dnwUy94M",
        "colab_type": "code",
        "colab": {
          "base_uri": "https://localhost:8080/",
          "height": 252
        },
        "outputId": "ab26a8ca-2c92-46be-b93b-a5581cfad9db"
      },
      "source": [
        "def get_cnn_v5(input_shape, num_classes):\n",
        "  return Sequential([\n",
        "    Conv2D(filters=32, kernel_size=(3,3), activation='relu', input_shape=input_shape),\n",
        "    Conv2D(filters=32, kernel_size=(3,3), activation='relu', padding='same'),\n",
        "    MaxPool2D(),\n",
        "    Dropout(0.3),\n",
        "\n",
        "    Conv2D(filters=64, kernel_size=(3,3), activation='relu', padding='same'),\n",
        "    Conv2D(filters=64, kernel_size=(3,3), activation='relu'),\n",
        "    MaxPool2D(),\n",
        "    Dropout(0.3),\n",
        "\n",
        "    Conv2D(filters=64, kernel_size=(3,3), activation='relu', padding='same'),\n",
        "    Conv2D(filters=64, kernel_size=(3,3), activation='relu'),\n",
        "    MaxPool2D(),\n",
        "    Dropout(0.3),\n",
        "\n",
        "    Flatten(),\n",
        "\n",
        "    Dense(1024, activation='relu'), \n",
        "    Dropout(0.3),\n",
        "\n",
        "    Dense(1024, activation='relu'), \n",
        "    Dropout(0.3),\n",
        "\n",
        "    Dense(num_classes, activation='softmax'),\n",
        "  ])\n",
        "\n",
        "train_and_predict(get_cnn_v5(input_shape, num_classes))"
      ],
      "execution_count": null,
      "outputs": [
        {
          "output_type": "stream",
          "text": [
            "1088/1088 [==============================] - 16s 14ms/step - loss: 1.6991 - accuracy: 0.5090\n",
            "Epoch 1/5\n",
            "272/272 [==============================] - 14s 51ms/step - loss: 0.3836 - accuracy: 0.8793 - val_loss: 0.1059 - val_accuracy: 0.9695\n",
            "Epoch 2/5\n",
            "272/272 [==============================] - 13s 48ms/step - loss: 0.2550 - accuracy: 0.9205 - val_loss: 0.0675 - val_accuracy: 0.9812\n",
            "Epoch 3/5\n",
            "272/272 [==============================] - 13s 47ms/step - loss: 0.2043 - accuracy: 0.9362 - val_loss: 0.0436 - val_accuracy: 0.9864\n",
            "Epoch 4/5\n",
            "272/272 [==============================] - 13s 47ms/step - loss: 0.1603 - accuracy: 0.9515 - val_loss: 0.0424 - val_accuracy: 0.9875\n",
            "Epoch 5/5\n",
            "272/272 [==============================] - 13s 46ms/step - loss: 0.1531 - accuracy: 0.9543 - val_loss: 0.0298 - val_accuracy: 0.9923\n"
          ],
          "name": "stdout"
        },
        {
          "output_type": "execute_result",
          "data": {
            "text/plain": [
              "0.9714285714285714"
            ]
          },
          "metadata": {
            "tags": []
          },
          "execution_count": 56
        }
      ]
    },
    {
      "cell_type": "code",
      "metadata": {
        "id": "vqVsM6Hn0wVW",
        "colab_type": "code",
        "colab": {}
      },
      "source": [
        "X_train_gray = color.rgb2gray(X_train).reshape(-1,32,32,1)\n",
        "X_test_gray = color.rgb2gray(X_test).reshape(-1,32,32,1)"
      ],
      "execution_count": null,
      "outputs": []
    },
    {
      "cell_type": "code",
      "metadata": {
        "id": "Hvah2BOL59J_",
        "colab_type": "code",
        "colab": {
          "base_uri": "https://localhost:8080/",
          "height": 252
        },
        "outputId": "fc6ae378-c6e6-4187-c060-5d56c2a4c9f5"
      },
      "source": [
        "model = get_cnn_v5((32,32,1), num_classes)\n",
        "model_trained = train_model(model, X_train_gray, y_train,params_fit={})\n",
        "predict(model_trained, X_test_gray, y_test)"
      ],
      "execution_count": null,
      "outputs": [
        {
          "output_type": "stream",
          "text": [
            "1088/1088 [==============================] - 16s 14ms/step - loss: 1.8838 - accuracy: 0.4545\n",
            "Epoch 1/5\n",
            "272/272 [==============================] - 13s 47ms/step - loss: 0.3469 - accuracy: 0.8860 - val_loss: 0.1026 - val_accuracy: 0.9677\n",
            "Epoch 2/5\n",
            "272/272 [==============================] - 12s 45ms/step - loss: 0.2411 - accuracy: 0.9219 - val_loss: 0.0592 - val_accuracy: 0.9819\n",
            "Epoch 3/5\n",
            "272/272 [==============================] - 12s 46ms/step - loss: 0.1827 - accuracy: 0.9406 - val_loss: 0.0609 - val_accuracy: 0.9799\n",
            "Epoch 4/5\n",
            "272/272 [==============================] - 12s 46ms/step - loss: 0.1474 - accuracy: 0.9535 - val_loss: 0.0278 - val_accuracy: 0.9916\n",
            "Epoch 5/5\n",
            "272/272 [==============================] - 12s 46ms/step - loss: 0.1219 - accuracy: 0.9609 - val_loss: 0.0239 - val_accuracy: 0.9924\n"
          ],
          "name": "stdout"
        },
        {
          "output_type": "execute_result",
          "data": {
            "text/plain": [
              "0.9768707482993197"
            ]
          },
          "metadata": {
            "tags": []
          },
          "execution_count": 73
        }
      ]
    },
    {
      "cell_type": "code",
      "metadata": {
        "id": "TIp3Lfr50tNq",
        "colab_type": "code",
        "colab": {
          "base_uri": "https://localhost:8080/",
          "height": 283
        },
        "outputId": "fcc0c003-c394-4b13-d2bd-2927788a64d0"
      },
      "source": [
        "plt.imshow(color.rgb2gray(X_train[0]), cmap=plt.get_cmap('gray'))"
      ],
      "execution_count": null,
      "outputs": [
        {
          "output_type": "execute_result",
          "data": {
            "text/plain": [
              "<matplotlib.image.AxesImage at 0x7fc66fc805c0>"
            ]
          },
          "metadata": {
            "tags": []
          },
          "execution_count": 62
        },
        {
          "output_type": "display_data",
          "data": {
            "image/png": "[encoded data removed]",
            "text/plain": [
              "<Figure size 432x288 with 1 Axes>"
            ]
          },
          "metadata": {
            "tags": [],
            "needs_background": "light"
          }
        }
      ]
    },
    {
      "cell_type": "code",
      "metadata": {
        "id": "8uYCT1mniX9u",
        "colab_type": "code",
        "colab": {}
      },
      "source": [
        "def preproc_img(img):\n",
        "    hsv = color.rgb2hsv(img)\n",
        "    hsv[:,:,2] = exposure.equalize_adapthist(hsv[:,:,2])\n",
        "    img = color.hsv2rgb(hsv)\n",
        "\n",
        "    return img\n"
      ],
      "execution_count": 12,
      "outputs": []
    },
    {
      "cell_type": "code",
      "metadata": {
        "id": "o3Y07QWPeUvp",
        "colab_type": "code",
        "colab": {
          "base_uri": "https://localhost:8080/",
          "height": 283
        },
        "outputId": "d603b76f-e13c-4ab8-9273-0ca4eb75faca"
      },
      "source": [
        "plt.imshow(X_train[400])"
      ],
      "execution_count": 9,
      "outputs": [
        {
          "output_type": "execute_result",
          "data": {
            "text/plain": [
              "<matplotlib.image.AxesImage at 0x7f6dcb4f30f0>"
            ]
          },
          "metadata": {
            "tags": []
          },
          "execution_count": 9
        },
        {
          "output_type": "display_data",
          "data": {
            "image/png": "[encoded data removed]",
            "text/plain": [
              "<Figure size 432x288 with 1 Axes>"
            ]
          },
          "metadata": {
            "tags": [],
            "needs_background": "light"
          }
        }
      ]
    },
    {
      "cell_type": "code",
      "metadata": {
        "id": "ZIBSl1rveeyG",
        "colab_type": "code",
        "colab": {
          "base_uri": "https://localhost:8080/",
          "height": 283
        },
        "outputId": "b4907d27-8a47-4692-dd99-2ba7e5fe44e7"
      },
      "source": [
        "plt.imshow(preproc_img(X_train[400]))"
      ],
      "execution_count": 13,
      "outputs": [
        {
          "output_type": "execute_result",
          "data": {
            "text/plain": [
              "<matplotlib.image.AxesImage at 0x7f6dcaf39198>"
            ]
          },
          "metadata": {
            "tags": []
          },
          "execution_count": 13
        },
        {
          "output_type": "display_data",
          "data": {
            "image/png": "[encoded data removed]",
            "text/plain": [
              "<Figure size 432x288 with 1 Axes>"
            ]
          },
          "metadata": {
            "tags": [],
            "needs_background": "light"
          }
        }
      ]
    },
    {
      "cell_type": "code",
      "metadata": {
        "id": "Ix1NT2_JfBaT",
        "colab_type": "code",
        "colab": {}
      },
      "source": [
        "X_train_prp = X_train.copy().astype(np.float32)\n",
        "X_test_prp = X_test.copy().astype(np.float32)\n",
        "\n",
        "for i in tqdm(range(X_train.shape[0])):\n",
        "    X_train_prp[i] = preproc_img(X_train[i])"
      ],
      "execution_count": null,
      "outputs": []
    }
  ]
}